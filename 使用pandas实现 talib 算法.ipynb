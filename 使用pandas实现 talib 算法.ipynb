{
 "cells": [
  {
   "cell_type": "code",
   "execution_count": 1,
   "id": "d025cf58",
   "metadata": {},
   "outputs": [],
   "source": [
    "import pandas as pd\n",
    "import numpy as np\n",
    "import talib as ta"
   ]
  },
  {
   "cell_type": "markdown",
   "id": "169166a7",
   "metadata": {},
   "source": [
    "### talib package包含了很多的金融时序数据的算法，在数据分析和量化投资领域使用频率高，然而talib不支持矩阵运算。（talib.abstract method对dataframe的columns有严格要求，不方便使用）\n",
    "### 以下实现对talib算法进行复现以及支持dataframe运算"
   ]
  },
  {
   "cell_type": "code",
   "execution_count": 5,
   "id": "84118e7b",
   "metadata": {},
   "outputs": [],
   "source": [
    "data = {}\n",
    "data['close'] = pd.read_pickle('close.pkl')\n",
    "data['high'] = pd.read_pickle('high.pkl')\n",
    "data['low'] = pd.read_pickle('low.pkl')\n",
    "data['open'] = pd.read_pickle('open.pkl')\n",
    "data['volume'] = pd.read_pickle('volume.pkl')"
   ]
  },
  {
   "cell_type": "markdown",
   "id": "40b02d1d",
   "metadata": {},
   "source": [
    "### ta.aroonup\n"
   ]
  },
  {
   "cell_type": "code",
   "execution_count": 25,
   "id": "ec1b7677",
   "metadata": {},
   "outputs": [],
   "source": [
    "def self_aroonup(data,paras):\n",
    "    period = paras['period']\n",
    "\n",
    "    value = 100 * ((data['high'].rolling(window=period).apply(np.argmax) + 1) / period)\n",
    "\n",
    "    return  value"
   ]
  },
  {
   "cell_type": "code",
   "execution_count": 26,
   "id": "b42872a3",
   "metadata": {},
   "outputs": [],
   "source": [
    "def self_aroondown(data,paras):\n",
    "    period = paras['period']\n",
    "\n",
    "    value = 100 * ((data['low'].rolling(window=period).apply(np.argmin) + 1) / period)\n",
    "\n",
    "    return  value"
   ]
  },
  {
   "cell_type": "code",
   "execution_count": 27,
   "id": "dd6da5d5",
   "metadata": {},
   "outputs": [],
   "source": [
    "aroonup = self_aroonup(data,{'period':14})['stock_1']\n",
    "aroondown = self_aroondown(data,{'period':14})['stock_1']"
   ]
  },
  {
   "cell_type": "code",
   "execution_count": 28,
   "id": "4cdd3c28",
   "metadata": {},
   "outputs": [],
   "source": [
    "ta_aroondown,ta_aroonup = ta.AROON(data['high']['stock_1'],data['low']['stock_1'])"
   ]
  },
  {
   "cell_type": "markdown",
   "id": "9f2f52c1",
   "metadata": {},
   "source": [
    "## ta.EMA"
   ]
  },
  {
   "cell_type": "code",
   "execution_count": 40,
   "id": "076e97d7",
   "metadata": {},
   "outputs": [],
   "source": [
    "ta_ema = ta.EMA(data['close']['stock_1'],9)"
   ]
  },
  {
   "cell_type": "code",
   "execution_count": 47,
   "id": "efb6d7ba",
   "metadata": {},
   "outputs": [],
   "source": [
    "ema = data['close'].ewm(span=9, adjust=False).mean()['stock_1']"
   ]
  },
  {
   "cell_type": "code",
   "execution_count": 50,
   "id": "b0177b87",
   "metadata": {},
   "outputs": [
    {
     "data": {
      "text/plain": [
       "2023-05-01 00:00:00             NaN\n",
       "2023-05-01 00:05:00             NaN\n",
       "2023-05-01 00:10:00             NaN\n",
       "2023-05-01 00:15:00             NaN\n",
       "2023-05-01 00:20:00             NaN\n",
       "                           ...     \n",
       "2023-07-31 23:35:00   -7.275958e-12\n",
       "2023-07-31 23:40:00   -7.275958e-12\n",
       "2023-07-31 23:45:00   -7.275958e-12\n",
       "2023-07-31 23:50:00   -7.275958e-12\n",
       "2023-07-31 23:55:00   -7.275958e-12\n",
       "Length: 26496, dtype: float64"
      ]
     },
     "execution_count": 50,
     "metadata": {},
     "output_type": "execute_result"
    }
   ],
   "source": [
    "ta_ema - ema"
   ]
  },
  {
   "cell_type": "markdown",
   "id": "68c9401b",
   "metadata": {},
   "source": [
    "## ta.RSI"
   ]
  },
  {
   "cell_type": "code",
   "execution_count": 61,
   "id": "b67bec7f",
   "metadata": {},
   "outputs": [],
   "source": [
    "def self_rsi(data,paras):\n",
    "    period = paras['period']\n",
    "    delta = data['close'].diff()\n",
    "    up, down = delta.copy(), delta.copy()\n",
    "    up[up < 0] = 0\n",
    "    down[down > 0] = 0\n",
    "    gain = up.ewm(com=period - 1, min_periods=period).mean()\n",
    "    loss = abs(down.ewm(com=period - 1, min_periods=period).mean())\n",
    "    RS = gain / loss\n",
    "    value = 100 - (100 / (1 + RS))\n",
    "    return value"
   ]
  },
  {
   "cell_type": "code",
   "execution_count": 64,
   "id": "4de59c98",
   "metadata": {},
   "outputs": [],
   "source": [
    "paras = {'period':14}\n",
    "rsi = self_rsi(data,paras)['stock_1']"
   ]
  },
  {
   "cell_type": "code",
   "execution_count": 65,
   "id": "27aa112d",
   "metadata": {},
   "outputs": [],
   "source": [
    "ta_rsi = ta.RSI(data['close']['stock_1'],14)"
   ]
  },
  {
   "cell_type": "code",
   "execution_count": 66,
   "id": "83fd622a",
   "metadata": {},
   "outputs": [
    {
     "data": {
      "text/plain": [
       "2023-05-01 00:00:00             NaN\n",
       "2023-05-01 00:05:00             NaN\n",
       "2023-05-01 00:10:00             NaN\n",
       "2023-05-01 00:15:00             NaN\n",
       "2023-05-01 00:20:00             NaN\n",
       "                           ...     \n",
       "2023-07-31 23:35:00    0.000000e+00\n",
       "2023-07-31 23:40:00    0.000000e+00\n",
       "2023-07-31 23:45:00    7.105427e-15\n",
       "2023-07-31 23:50:00   -7.105427e-15\n",
       "2023-07-31 23:55:00    7.105427e-15\n",
       "Length: 26496, dtype: float64"
      ]
     },
     "execution_count": 66,
     "metadata": {},
     "output_type": "execute_result"
    }
   ],
   "source": [
    "ta_rsi-rsi"
   ]
  },
  {
   "cell_type": "code",
   "execution_count": null,
   "id": "19203eb6",
   "metadata": {},
   "outputs": [],
   "source": []
  },
  {
   "cell_type": "code",
   "execution_count": null,
   "id": "0441227f",
   "metadata": {},
   "outputs": [],
   "source": []
  }
 ],
 "metadata": {
  "kernelspec": {
   "display_name": "Python 3 (ipykernel)",
   "language": "python",
   "name": "python3"
  },
  "language_info": {
   "codemirror_mode": {
    "name": "ipython",
    "version": 3
   },
   "file_extension": ".py",
   "mimetype": "text/x-python",
   "name": "python",
   "nbconvert_exporter": "python",
   "pygments_lexer": "ipython3",
   "version": "3.7.5"
  }
 },
 "nbformat": 4,
 "nbformat_minor": 5
}
